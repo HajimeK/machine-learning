{
 "cells": [
  {
   "cell_type": "markdown",
   "metadata": {},
   "source": [
    "# Machine Learning Engineer Nanodegree\n",
    "## Capstone\n",
    "## Project: Air pressure system failures in Scania trucks"
   ]
  },
  {
   "cell_type": "markdown",
   "metadata": {},
   "source": [
    "## Libraries Used (Imports)"
   ]
  },
  {
   "cell_type": "code",
   "execution_count": 1,
   "metadata": {},
   "outputs": [],
   "source": [
    "# Import libraries necessary for this project\n",
    "import numpy as np\n",
    "import pandas as pd\n",
    "import matplotlib.pyplot as plt\n",
    "from tqdm import tqdm\n",
    "from IPython.display import display # Allows the use of display() for DataFrames\n",
    "\n",
    "from sklearn.model_selection import train_test_split\n",
    "from sklearn.model_selection import GridSearchCV\n",
    "from sklearn.metrics.scorer import make_scorer\n",
    "from sklearn.metrics import r2_score\n",
    "from sklearn.tree import DecisionTreeRegressor\n",
    "from sklearn.decomposition import PCA\n",
    "\n",
    "import xgboost as xgb\n",
    "\n",
    "# Pretty display for notebooks\n",
    "%matplotlib inline\n",
    "\n",
    "random_seed = 42"
   ]
  },
  {
   "cell_type": "markdown",
   "metadata": {},
   "source": [
    "## Data Exploration\n",
    "In this section, you will begin exploring the data through visualizations and code to understand how each feature is related to the others. You will observe a statistical description of the dataset, consider the relevance of each feature, and select a few sample data points from the dataset which you will track through the course of this project."
   ]
  },
  {
   "cell_type": "code",
   "execution_count": 2,
   "metadata": {},
   "outputs": [],
   "source": [
    "# Load the trianing/Test dataset\n",
    "try:\n",
    "    train = pd.read_csv('data/aps_failure_training_set_processed_8bit.csv')\n",
    "    test = pd.read_csv('data/aps_failure_test_set_processed_8bit.csv')\n",
    "except:\n",
    "    print(\"Dataset could not be loaded. Is the dataset missing?\")"
   ]
  },
  {
   "cell_type": "code",
   "execution_count": 10,
   "metadata": {},
   "outputs": [
    {
     "data": {
      "text/plain": [
       "(60000, 171)"
      ]
     },
     "metadata": {},
     "output_type": "display_data"
    },
    {
     "data": {
      "text/plain": [
       "(16000, 171)"
      ]
     },
     "metadata": {},
     "output_type": "display_data"
    }
   ],
   "source": [
    "# Display a description of the dataset\n",
    "display(train.shape)\n",
    "display(test.shape)"
   ]
  },
  {
   "cell_type": "code",
   "execution_count": 11,
   "metadata": {
    "scrolled": true
   },
   "outputs": [
    {
     "data": {
      "text/html": [
       "<div>\n",
       "<style scoped>\n",
       "    .dataframe tbody tr th:only-of-type {\n",
       "        vertical-align: middle;\n",
       "    }\n",
       "\n",
       "    .dataframe tbody tr th {\n",
       "        vertical-align: top;\n",
       "    }\n",
       "\n",
       "    .dataframe thead th {\n",
       "        text-align: right;\n",
       "    }\n",
       "</style>\n",
       "<table border=\"1\" class=\"dataframe\">\n",
       "  <thead>\n",
       "    <tr style=\"text-align: right;\">\n",
       "      <th></th>\n",
       "      <th>class</th>\n",
       "      <th>aa_000</th>\n",
       "      <th>ab_000</th>\n",
       "      <th>ac_000</th>\n",
       "      <th>ad_000</th>\n",
       "      <th>ae_000</th>\n",
       "      <th>af_000</th>\n",
       "      <th>ag_000</th>\n",
       "      <th>ag_001</th>\n",
       "      <th>ag_002</th>\n",
       "      <th>...</th>\n",
       "      <th>ee_002</th>\n",
       "      <th>ee_003</th>\n",
       "      <th>ee_004</th>\n",
       "      <th>ee_005</th>\n",
       "      <th>ee_006</th>\n",
       "      <th>ee_007</th>\n",
       "      <th>ee_008</th>\n",
       "      <th>ee_009</th>\n",
       "      <th>ef_000</th>\n",
       "      <th>eg_000</th>\n",
       "    </tr>\n",
       "  </thead>\n",
       "  <tbody>\n",
       "    <tr>\n",
       "      <th>59997</th>\n",
       "      <td>0</td>\n",
       "      <td>-0.406250</td>\n",
       "      <td>-0.289062</td>\n",
       "      <td>0.992188</td>\n",
       "      <td>-0.007812</td>\n",
       "      <td>-0.046875</td>\n",
       "      <td>-0.054688</td>\n",
       "      <td>-0.007812</td>\n",
       "      <td>-0.03125</td>\n",
       "      <td>-0.054688</td>\n",
       "      <td>...</td>\n",
       "      <td>-0.382812</td>\n",
       "      <td>-0.382812</td>\n",
       "      <td>-0.375000</td>\n",
       "      <td>-0.351562</td>\n",
       "      <td>-0.312500</td>\n",
       "      <td>-0.195312</td>\n",
       "      <td>-0.304688</td>\n",
       "      <td>-0.171875</td>\n",
       "      <td>-0.023438</td>\n",
       "      <td>-0.023438</td>\n",
       "    </tr>\n",
       "    <tr>\n",
       "      <th>59998</th>\n",
       "      <td>0</td>\n",
       "      <td>0.140625</td>\n",
       "      <td>0.304688</td>\n",
       "      <td>0.992188</td>\n",
       "      <td>-0.007812</td>\n",
       "      <td>-0.046875</td>\n",
       "      <td>-0.054688</td>\n",
       "      <td>-0.007812</td>\n",
       "      <td>-0.03125</td>\n",
       "      <td>-0.054688</td>\n",
       "      <td>...</td>\n",
       "      <td>0.218750</td>\n",
       "      <td>0.023438</td>\n",
       "      <td>-0.085938</td>\n",
       "      <td>-0.148438</td>\n",
       "      <td>-0.132812</td>\n",
       "      <td>-0.101562</td>\n",
       "      <td>0.992188</td>\n",
       "      <td>0.992188</td>\n",
       "      <td>-0.023438</td>\n",
       "      <td>-0.023438</td>\n",
       "    </tr>\n",
       "    <tr>\n",
       "      <th>59999</th>\n",
       "      <td>0</td>\n",
       "      <td>-0.132812</td>\n",
       "      <td>0.281250</td>\n",
       "      <td>-0.468750</td>\n",
       "      <td>-0.007812</td>\n",
       "      <td>-0.046875</td>\n",
       "      <td>-0.054688</td>\n",
       "      <td>-0.007812</td>\n",
       "      <td>-0.03125</td>\n",
       "      <td>-0.054688</td>\n",
       "      <td>...</td>\n",
       "      <td>-0.007812</td>\n",
       "      <td>-0.046875</td>\n",
       "      <td>-0.085938</td>\n",
       "      <td>-0.125000</td>\n",
       "      <td>-0.101562</td>\n",
       "      <td>-0.109375</td>\n",
       "      <td>0.070312</td>\n",
       "      <td>-0.171875</td>\n",
       "      <td>-0.023438</td>\n",
       "      <td>-0.023438</td>\n",
       "    </tr>\n",
       "  </tbody>\n",
       "</table>\n",
       "<p>3 rows × 171 columns</p>\n",
       "</div>"
      ],
      "text/plain": [
       "       class    aa_000    ab_000    ac_000    ad_000    ae_000    af_000  \\\n",
       "59997      0 -0.406250 -0.289062  0.992188 -0.007812 -0.046875 -0.054688   \n",
       "59998      0  0.140625  0.304688  0.992188 -0.007812 -0.046875 -0.054688   \n",
       "59999      0 -0.132812  0.281250 -0.468750 -0.007812 -0.046875 -0.054688   \n",
       "\n",
       "         ag_000   ag_001    ag_002    ...       ee_002    ee_003    ee_004  \\\n",
       "59997 -0.007812 -0.03125 -0.054688    ...    -0.382812 -0.382812 -0.375000   \n",
       "59998 -0.007812 -0.03125 -0.054688    ...     0.218750  0.023438 -0.085938   \n",
       "59999 -0.007812 -0.03125 -0.054688    ...    -0.007812 -0.046875 -0.085938   \n",
       "\n",
       "         ee_005    ee_006    ee_007    ee_008    ee_009    ef_000    eg_000  \n",
       "59997 -0.351562 -0.312500 -0.195312 -0.304688 -0.171875 -0.023438 -0.023438  \n",
       "59998 -0.148438 -0.132812 -0.101562  0.992188  0.992188 -0.023438 -0.023438  \n",
       "59999 -0.125000 -0.101562 -0.109375  0.070312 -0.171875 -0.023438 -0.023438  \n",
       "\n",
       "[3 rows x 171 columns]"
      ]
     },
     "execution_count": 11,
     "metadata": {},
     "output_type": "execute_result"
    }
   ],
   "source": [
    "train.tail(3)"
   ]
  },
  {
   "cell_type": "code",
   "execution_count": 3,
   "metadata": {},
   "outputs": [],
   "source": [
    "train['class'] = train['class'].apply(lambda x: 0 if x<=0 else 1)\n",
    "test['class'] = test['class'].apply(lambda x: 0 if x<=0 else 1)\n",
    "\n",
    "X = train.drop('class', axis=1)\n",
    "y = train['class']\n",
    "\n",
    "X_test_given = test.drop('class', axis=1)\n",
    "y_test_given = test['class']"
   ]
  },
  {
   "cell_type": "code",
   "execution_count": 4,
   "metadata": {},
   "outputs": [],
   "source": [
    "pca = PCA(n_components=86) # Above 99%\n",
    "pca.fit(X)\n",
    "reduced_data = pca.transform(X)"
   ]
  },
  {
   "cell_type": "code",
   "execution_count": 5,
   "metadata": {},
   "outputs": [
    {
     "data": {
      "image/png": "[encoded data removed]",
      "text/plain": [
       "<Figure size 432x288 with 1 Axes>"
      ]
     },
     "metadata": {
      "needs_background": "light"
     },
     "output_type": "display_data"
    }
   ],
   "source": [
    "reduced_data.shape\n",
    "#print(np.cumsum(pca.explained_variance_ratio_))\n",
    "plt.figure()\n",
    "plt.plot(np.cumsum(pca.explained_variance_ratio_))\n",
    "plt.xlabel('Number of Components')\n",
    "plt.ylabel('Variance (%)') #for each component\n",
    "plt.title('Pulsar Dataset Explained Variance')\n",
    "plt.show()"
   ]
  },
  {
   "cell_type": "code",
   "execution_count": 6,
   "metadata": {},
   "outputs": [],
   "source": [
    "X_train, X_test, y_train, y_test = train_test_split(reduced_data, y, test_size=0.2, stratify=y, random_state=random_seed)"
   ]
  },
  {
   "cell_type": "code",
   "execution_count": 7,
   "metadata": {},
   "outputs": [
    {
     "name": "stdout",
     "output_type": "stream",
     "text": [
      "[22:45:01] Tree method is selected to be 'hist', which uses a single updater grow_fast_histmaker.\n"
     ]
    },
    {
     "ename": "NameError",
     "evalue": "name 'Y_test' is not defined",
     "output_type": "error",
     "traceback": [
      "\u001b[0;31m---------------------------------------------------------------------------\u001b[0m",
      "\u001b[0;31mNameError\u001b[0m                                 Traceback (most recent call last)",
      "\u001b[0;32m<timed exec>\u001b[0m in \u001b[0;36m<module>\u001b[0;34m\u001b[0m\n",
      "\u001b[0;31mNameError\u001b[0m: name 'Y_test' is not defined"
     ]
    }
   ],
   "source": [
    "%%time\n",
    "\n",
    "\n",
    "params = {\n",
    "'max_depth':[3,5],\n",
    "'learning_rate':[0.1],\n",
    "'gamma':[0,3,10],\n",
    "'min_child_weight':[1,2,3],\n",
    "'max_delta_step':[5],\n",
    "'colsample_bytree':[0.8],\n",
    "'n_estimators':[1000],\n",
    "'subsample':[0.8],\n",
    "'objective':['binary:logistic'],\n",
    "'nthread':[4],\n",
    "'scale_pos_weight':[1],\n",
    "'seed':[42],\n",
    "'verbose': [10]}\n",
    "\n",
    "model = xgb.XGBClassifier(tree_method='hist')\n",
    "cv = GridSearchCV(model, params, cv=5, n_jobs=4, scoring='roc_auc')\n",
    "\n",
    "cv.fit(X_train, y_train)"
   ]
  },
  {
   "cell_type": "markdown",
   "metadata": {},
   "source": [
    "Took 24 hours! To avoid re-search best hyper params moved the logic to lower cells."
   ]
  },
  {
   "cell_type": "code",
   "execution_count": 37,
   "metadata": {},
   "outputs": [
    {
     "name": "stdout",
     "output_type": "stream",
     "text": [
      "XGBClassifier(base_score=0.5, booster='gbtree', colsample_bylevel=1,\n",
      "       colsample_bytree=0.8, gamma=3, learning_rate=0.1, max_delta_step=5,\n",
      "       max_depth=5, min_child_weight=1, missing=None, n_estimators=1000,\n",
      "       n_jobs=1, nthread=4, objective='binary:logistic', random_state=0,\n",
      "       reg_alpha=0, reg_lambda=1, scale_pos_weight=1, seed=42, silent=True,\n",
      "       subsample=0.8, tree_method='hist', verbose=10)\n"
     ]
    }
   ],
   "source": [
    "predictor = cv.best_estimator_\n",
    "\n",
    "print(predictor)"
   ]
  },
  {
   "cell_type": "code",
   "execution_count": 35,
   "metadata": {},
   "outputs": [
    {
     "name": "stdout",
     "output_type": "stream",
     "text": [
      "Best ROC-AUC: 0.9999\n"
     ]
    }
   ],
   "source": [
    "from sklearn.metrics import roc_auc_score\n",
    "\n",
    "score = predictor.predict_proba(X_train)\n",
    "print('Best ROC-AUC: {:.4f}'.format(roc_auc_score(y_train, score[:, 1], average='macro')))"
   ]
  },
  {
   "cell_type": "code",
   "execution_count": 10,
   "metadata": {},
   "outputs": [
    {
     "name": "stdout",
     "output_type": "stream",
     "text": [
      "Best parameters: {'colsample_bytree': 0.8, 'gamma': 3, 'learning_rate': 0.1, 'max_delta_step': 5, 'max_depth': 5, 'min_child_weight': 1, 'n_estimators': 1000, 'nthread': 4, 'objective': 'binary:logistic', 'scale_pos_weight': 1, 'seed': 42, 'subsample': 0.8, 'verbose': 10}\n",
      "Best auroc score: 0.9885541578389831\n"
     ]
    }
   ],
   "source": [
    "cv.score(X_test, y_test)\n",
    "\n",
    "print(\"Best parameters: %s\" % cv.best_params_)\n",
    "print(\"Best auroc score: %s\" % cv.best_score_)"
   ]
  },
  {
   "cell_type": "code",
   "execution_count": 15,
   "metadata": {},
   "outputs": [
    {
     "name": "stdout",
     "output_type": "stream",
     "text": [
      "Best parameters: {'colsample_bytree': 0.8, 'gamma': 3, 'learning_rate': 0.1, 'max_delta_step': 5, 'max_depth': 5, 'min_child_weight': 1, 'n_estimators': 1000, 'nthread': 4, 'objective': 'binary:logistic', 'scale_pos_weight': 1, 'seed': 42, 'subsample': 0.8, 'verbose': 10}\n",
      "Best auroc score: 0.9885541578389831\n"
     ]
    }
   ],
   "source": [
    "cv.score(pca.transform(X_test_given), y_test_given)\n",
    "print(\"Best parameters: %s\" % cv.best_params_)\n",
    "print(\"Best auroc score: %s\" % cv.best_score_)"
   ]
  },
  {
   "cell_type": "code",
   "execution_count": 38,
   "metadata": {},
   "outputs": [],
   "source": [
    "from sklearn.metrics import accuracy_score, confusion_matrix, classification_report\n",
    "predict = predictor.predict(pca.transform(X_test_given))"
   ]
  },
  {
   "cell_type": "code",
   "execution_count": 39,
   "metadata": {},
   "outputs": [
    {
     "data": {
      "text/plain": [
       "0.9886875"
      ]
     },
     "execution_count": 39,
     "metadata": {},
     "output_type": "execute_result"
    }
   ],
   "source": [
    "accuracy_score( y_test_given, predict)"
   ]
  },
  {
   "cell_type": "code",
   "execution_count": 40,
   "metadata": {},
   "outputs": [
    {
     "data": {
      "text/plain": [
       "array([[15595,    30],\n",
       "       [  151,   224]])"
      ]
     },
     "execution_count": 40,
     "metadata": {},
     "output_type": "execute_result"
    }
   ],
   "source": [
    "confusion_matrix(y_true = y_test_given, y_pred = predict )"
   ]
  },
  {
   "cell_type": "code",
   "execution_count": 41,
   "metadata": {},
   "outputs": [
    {
     "name": "stdout",
     "output_type": "stream",
     "text": [
      "              precision    recall  f1-score   support\n",
      "\n",
      "           0       0.99      1.00      0.99     15625\n",
      "           1       0.88      0.60      0.71       375\n",
      "\n",
      "   micro avg       0.99      0.99      0.99     16000\n",
      "   macro avg       0.94      0.80      0.85     16000\n",
      "weighted avg       0.99      0.99      0.99     16000\n",
      "\n"
     ]
    }
   ],
   "source": [
    "print(classification_report( y_true = y_test_given, y_pred = predict ))"
   ]
  },
  {
   "cell_type": "code",
   "execution_count": 42,
   "metadata": {},
   "outputs": [
    {
     "data": {
      "text/plain": [
       "array([0.01881284, 0.02984106, 0.01167694, 0.01654233, 0.00908206,\n",
       "       0.00746027, 0.00713591, 0.01265002, 0.01946156, 0.02432695,\n",
       "       0.01070386, 0.00908206, 0.01135258, 0.00940642, 0.00810898,\n",
       "       0.01524489, 0.03178722, 0.01135258, 0.01686669, 0.0103795 ,\n",
       "       0.01589361, 0.01362309, 0.0103795 , 0.00973078, 0.02270516,\n",
       "       0.04022057, 0.01102822, 0.01329874, 0.01459617, 0.00810898,\n",
       "       0.01070386, 0.01654233, 0.00551411, 0.0087577 , 0.00908206,\n",
       "       0.01589361, 0.00518975, 0.01362309, 0.00713591, 0.00843334,\n",
       "       0.00746027, 0.01167694, 0.01232566, 0.01265002, 0.00973078,\n",
       "       0.00551411, 0.00551411, 0.00973078, 0.00778463, 0.00940642,\n",
       "       0.00616283, 0.0087577 , 0.00681155, 0.0103795 , 0.00583847,\n",
       "       0.01654233, 0.00648719, 0.00713591, 0.00713591, 0.00551411,\n",
       "       0.00518975, 0.0120013 , 0.01362309, 0.00940642, 0.01135258,\n",
       "       0.02302952, 0.00810898, 0.01135258, 0.00940642, 0.00681155,\n",
       "       0.00746027, 0.01751541, 0.00843334, 0.00843334, 0.00940642,\n",
       "       0.01232566, 0.0103795 , 0.00518975, 0.01524489, 0.00616283,\n",
       "       0.00940642, 0.01297438, 0.01427181, 0.01362309, 0.00648719,\n",
       "       0.00810898], dtype=float32)"
      ]
     },
     "execution_count": 42,
     "metadata": {},
     "output_type": "execute_result"
    }
   ],
   "source": [
    "predictor.feature_importances_"
   ]
  },
  {
   "cell_type": "code",
   "execution_count": 58,
   "metadata": {},
   "outputs": [
    {
     "data": {
      "image/png": "[encoded data removed]",
      "text/plain": [
       "<Figure size 432x288 with 1 Axes>"
      ]
     },
     "metadata": {
      "needs_background": "light"
     },
     "output_type": "display_data"
    }
   ],
   "source": [
    "from xgboost import plot_importance\n",
    "from matplotlib import pyplot\n",
    "plot_importance(predictor, max_num_features = 20)\n",
    "pyplot.show()"
   ]
  }
 ],
 "metadata": {
  "kernelspec": {
   "display_name": "Python 3",
   "language": "python",
   "name": "python3"
  },
  "language_info": {
   "codemirror_mode": {
    "name": "ipython",
    "version": 3
   },
   "file_extension": ".py",
   "mimetype": "text/x-python",
   "name": "python",
   "nbconvert_exporter": "python",
   "pygments_lexer": "ipython3",
   "version": "3.6.7"
  }
 },
 "nbformat": 4,
 "nbformat_minor": 1
}
